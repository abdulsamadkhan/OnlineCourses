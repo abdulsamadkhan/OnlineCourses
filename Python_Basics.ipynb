{
  "cells": [
    {
      "cell_type": "markdown",
      "metadata": {
        "id": "view-in-github",
        "colab_type": "text"
      },
      "source": [
        "<a href=\"https://colab.research.google.com/github/abdulsamadkhan/OnlineCourses/blob/main/Python_Basics.ipynb\" target=\"_parent\"><img src=\"https://colab.research.google.com/assets/colab-badge.svg\" alt=\"Open In Colab\"/></a>"
      ]
    },
    {
      "cell_type": "markdown",
      "source": [
        "# Python Basics - IPython Notebook\n"
      ],
      "metadata": {
        "id": "rcl23jnqhGog"
      },
      "id": "rcl23jnqhGog"
    },
    {
      "cell_type": "markdown",
      "source": [
        "## Section 0: Variable\n",
        "Now let's start introducing variables. Variables store a value, that can be looked at or changed at a later time. Let's make a program that uses variables:\n"
      ],
      "metadata": {
        "id": "5ii8lafUhGn6"
      },
      "id": "5ii8lafUhGn6"
    },
    {
      "cell_type": "code",
      "source": [
        "#variables demonstrated\n",
        "print(\"This program is a demo of variables\")\n",
        "v = 1\n",
        "print(\"The value of v is now\", v)\n",
        "v = v + 1\n",
        "print(\"v now equals itself plus one, making it worth\", v)\n",
        "v = 51\n",
        "print(\"v can store any numerical value, to be used elsewhere.\")\n",
        "print(\"for example, in a sentence. v is now worth\", v)\n",
        "print(\"v times 5 equals\", v * 5)\n",
        "print(\"but v still only remains\", v)\n",
        "print(\"to make v five times bigger, you would have to type v = v * 5\")\n",
        "v = v * 5\n",
        "print(\"there you go, now v equals\", v, \"and not\", v / 5)"
      ],
      "metadata": {
        "colab": {
          "base_uri": "https://localhost:8080/"
        },
        "id": "igx9rOJFhnTc",
        "outputId": "034e3923-2ac3-48fe-bfcd-c39c3f7fe18b"
      },
      "id": "igx9rOJFhnTc",
      "execution_count": 13,
      "outputs": [
        {
          "output_type": "stream",
          "name": "stdout",
          "text": [
            "This program is a demo of variables\n",
            "The value of v is now 1\n",
            "v now equals itself plus one, making it worth 2\n",
            "v can store any numerical value, to be used elsewhere.\n",
            "for example, in a sentence. v is now worth 51\n",
            "v times 5 equals 255\n",
            "but v still only remains 51\n",
            "to make v five times bigger, you would have to type v = v * 5\n",
            "there you go, now v equals 255 and not 51.0\n"
          ]
        }
      ]
    },
    {
      "cell_type": "markdown",
      "source": [
        "\n",
        "## Section 1: If-Else\n",
        "\n",
        "### Explanation\n",
        "The `if` statement is used to execute a block of code if a specified condition is true. The `else` statement can follow an `if` statement to execute a block of code if the condition is false. Optionally, `elif` allows multiple conditions to be checked.\n",
        "\n",
        "### Examples\n"
      ],
      "metadata": {
        "id": "I78kWaCgcd3a"
      },
      "id": "I78kWaCgcd3a"
    },
    {
      "cell_type": "code",
      "source": [
        "\n",
        "# Example 1: Simple If-Else\n",
        "number = 10\n",
        "if number > 5:\n",
        "    print(\"The number is greater than 5\")\n",
        "else:\n",
        "    print(\"The number is not greater than 5\")\n",
        "\n",
        "# Example 2: If-Elif-Else\n",
        "age = 25\n",
        "if age < 18:\n",
        "    print(\"You are a minor.\")\n",
        "elif age < 60:\n",
        "    print(\"You are an adult.\")\n",
        "else:\n",
        "    print(\"You are a senior citizen.\")\n"
      ],
      "metadata": {
        "colab": {
          "base_uri": "https://localhost:8080/"
        },
        "id": "It3C86_-ckdq",
        "outputId": "afcd2d26-7734-45e2-d7fb-39095861c850"
      },
      "id": "It3C86_-ckdq",
      "execution_count": 14,
      "outputs": [
        {
          "output_type": "stream",
          "name": "stdout",
          "text": [
            "The number is greater than 5\n",
            "You are an adult.\n"
          ]
        }
      ]
    },
    {
      "cell_type": "markdown",
      "source": [
        "## Section 2: Looping Constructs\n",
        "\n",
        "### Explanation\n",
        "Loops allow repeated execution of a block of code. Python provides `for` and `while` loops.\n",
        "\n",
        "### Examples\n"
      ],
      "metadata": {
        "id": "JGdsvVRGcxCI"
      },
      "id": "JGdsvVRGcxCI"
    },
    {
      "cell_type": "code",
      "source": [
        "# For Loop\n",
        "for i in range(1, 6):\n",
        "    print(f\"Iteration {i}\")\n",
        "\n",
        "# While Loop\n",
        "count = 1\n",
        "while count <= 5:\n",
        "    print(f\"Count is {count}\")\n",
        "    count += 1\n"
      ],
      "metadata": {
        "colab": {
          "base_uri": "https://localhost:8080/"
        },
        "id": "j6RTTt9Sc1Ml",
        "outputId": "2e9f21da-6096-4f35-a646-719d39de464b"
      },
      "id": "j6RTTt9Sc1Ml",
      "execution_count": 15,
      "outputs": [
        {
          "output_type": "stream",
          "name": "stdout",
          "text": [
            "Iteration 1\n",
            "Iteration 2\n",
            "Iteration 3\n",
            "Iteration 4\n",
            "Iteration 5\n",
            "Count is 1\n",
            "Count is 2\n",
            "Count is 3\n",
            "Count is 4\n",
            "Count is 5\n"
          ]
        }
      ]
    },
    {
      "cell_type": "markdown",
      "source": [
        "## Section 3: Strings\n",
        "\n",
        "### Explanation\n",
        "Strings are sequences of characters. They can be manipulated with various methods.\n",
        "\n",
        "### Examples\n"
      ],
      "metadata": {
        "id": "eCyuWGmadDNW"
      },
      "id": "eCyuWGmadDNW"
    },
    {
      "cell_type": "code",
      "source": [
        "# String Basics\n",
        "name = \"Musavir\"\n",
        "print(f\"Hello, {name}!\")\n",
        "\n",
        "# String Methods\n",
        "text = \"Python Programming\"\n",
        "print(text.lower())\n",
        "print(text.upper())\n",
        "print(text.replace(\"Python\", \"Java\"))\n"
      ],
      "metadata": {
        "colab": {
          "base_uri": "https://localhost:8080/"
        },
        "id": "Tl9qf3Etc1Lu",
        "outputId": "bcbca50e-d7ef-4e28-9d40-325dfc13a138"
      },
      "id": "Tl9qf3Etc1Lu",
      "execution_count": 16,
      "outputs": [
        {
          "output_type": "stream",
          "name": "stdout",
          "text": [
            "Hello, Musavir!\n",
            "python programming\n",
            "PYTHON PROGRAMMING\n",
            "Java Programming\n"
          ]
        }
      ]
    },
    {
      "cell_type": "code",
      "source": [
        "# Slicing\n",
        "print(text[0:6])  # Output: Python\n"
      ],
      "metadata": {
        "colab": {
          "base_uri": "https://localhost:8080/"
        },
        "id": "7dEuJIHYdQye",
        "outputId": "da309b92-527c-4dad-9765-49aae14f9a40"
      },
      "id": "7dEuJIHYdQye",
      "execution_count": 17,
      "outputs": [
        {
          "output_type": "stream",
          "name": "stdout",
          "text": [
            "Python\n"
          ]
        }
      ]
    },
    {
      "cell_type": "markdown",
      "source": [
        "\n",
        "## Section 4: Lists\n",
        "\n",
        "### Explanation\n",
        "Lists are ordered collections of items that are mutable. They are extremely versatile and can store various data types. Lists are commonly used in data manipulation and serve as a foundation for more complex data structures.\n",
        "\n",
        "### Examples\n",
        "\n",
        "#### Basic Operations\n"
      ],
      "metadata": {
        "id": "y2H7P_y8daTG"
      },
      "id": "y2H7P_y8daTG"
    },
    {
      "cell_type": "code",
      "source": [
        "# Creating a List\n",
        "fruits = [\"apple\", \"banana\", \"cherry\"]\n",
        "print(f\"Original List: {fruits}\")\n",
        "\n",
        "# Adding Items\n",
        "fruits.append(\"date\")\n",
        "print(f\"After Append: {fruits}\")\n",
        "\n",
        "# Inserting Items\n",
        "fruits.insert(1, \"blueberry\")\n",
        "print(f\"After Insert: {fruits}\")\n",
        "\n",
        "# Removing Items\n",
        "fruits.remove(\"banana\")\n",
        "print(f\"After Remove: {fruits}\")\n",
        "\n",
        "# Accessing Items\n",
        "print(f\"First Fruit: {fruits[0]}\")\n",
        "print(f\"Last Fruit: {fruits[-1]}\")\n"
      ],
      "metadata": {
        "colab": {
          "base_uri": "https://localhost:8080/"
        },
        "id": "LuFHKN60dgL9",
        "outputId": "0a45f401-7061-49d3-f827-d35db9adf1ee"
      },
      "id": "LuFHKN60dgL9",
      "execution_count": 18,
      "outputs": [
        {
          "output_type": "stream",
          "name": "stdout",
          "text": [
            "Original List: ['apple', 'banana', 'cherry']\n",
            "After Append: ['apple', 'banana', 'cherry', 'date']\n",
            "After Insert: ['apple', 'blueberry', 'banana', 'cherry', 'date']\n",
            "After Remove: ['apple', 'blueberry', 'cherry', 'date']\n",
            "First Fruit: apple\n",
            "Last Fruit: date\n"
          ]
        }
      ]
    },
    {
      "cell_type": "code",
      "source": [
        "#### Advanced Examples\n",
        "# Iterating through a List\n",
        "for fruit in fruits:\n",
        "    print(f\"I like {fruit}\")\n",
        "\n",
        "# List Comprehension\n",
        "squares = [x**2 for x in range(1, 6)]\n",
        "print(f\"Squares: {squares}\")\n",
        "\n",
        "# Filtering a List\n",
        "numbers = [10, 15, 20, 25, 30]\n",
        "even_numbers = [num for num in numbers if num % 2 == 0]\n",
        "print(f\"Even Numbers: {even_numbers}\")\n",
        "\n",
        "# Slicing\n",
        "sub_list = fruits[1:3]\n",
        "print(f\"Sub List: {sub_list}\")\n",
        "\n",
        "# Multi-dimensional List\n",
        "matrix = [\n",
        "    [1, 2, 3],\n",
        "    [4, 5, 6],\n",
        "    [7, 8, 9]\n",
        "]\n",
        "print(f\"Matrix: {matrix}\")\n",
        "\n",
        "# Accessing Rows and Elements\n",
        "print(f\"First Row: {matrix[0]}\")\n",
        "print(f\"Element (2,3): {matrix[1][2]}\")\n"
      ],
      "metadata": {
        "colab": {
          "base_uri": "https://localhost:8080/"
        },
        "id": "XvzmSPq5dnrB",
        "outputId": "529206ca-2b80-4154-9bfb-714677c0f30f"
      },
      "id": "XvzmSPq5dnrB",
      "execution_count": 19,
      "outputs": [
        {
          "output_type": "stream",
          "name": "stdout",
          "text": [
            "I like apple\n",
            "I like blueberry\n",
            "I like cherry\n",
            "I like date\n",
            "Squares: [1, 4, 9, 16, 25]\n",
            "Even Numbers: [10, 20, 30]\n",
            "Sub List: ['blueberry', 'cherry']\n",
            "Matrix: [[1, 2, 3], [4, 5, 6], [7, 8, 9]]\n",
            "First Row: [1, 2, 3]\n",
            "Element (2,3): 6\n"
          ]
        }
      ]
    },
    {
      "cell_type": "markdown",
      "source": [
        "\n",
        "\n",
        "\n",
        "\n",
        "#### Connecting Lists to Machine Learning\n",
        "Lists are often used in data preprocessing and manipulation tasks, which are crucial in machine learning.\n",
        "\n",
        "##### Example: Storing Features"
      ],
      "metadata": {
        "id": "qRoDTfxyd7-H"
      },
      "id": "qRoDTfxyd7-H"
    },
    {
      "cell_type": "code",
      "source": [
        "# Representing Features of a Data Point\n",
        "# Example: [Height (cm), Weight (kg), Age (years)]\n",
        "data_point = [170, 65, 25]\n",
        "print(f\"Data Point: {data_point}\")\n",
        "\n",
        "# Dataset with Multiple Data Points\n",
        "# Each sublist represents a data point: [Height, Weight, Age]\n",
        "dataset = [\n",
        "    [170, 65, 25],\n",
        "    [160, 55, 30],\n",
        "    [180, 75, 35]\n",
        "]\n",
        "\n",
        "# Accessing Data Points\n",
        "print(f\"First Data Point: {dataset[0]}\")\n",
        "\n",
        "# Calculating Average Height\n",
        "heights = [data[0] for data in dataset]\n",
        "average_height = sum(heights) / len(heights)\n",
        "print(f\"Average Height: {average_height} cm\")\n"
      ],
      "metadata": {
        "colab": {
          "base_uri": "https://localhost:8080/"
        },
        "id": "W8WkBFQseIMS",
        "outputId": "792b0b5c-6081-42f6-f58c-bf86e9f68775"
      },
      "id": "W8WkBFQseIMS",
      "execution_count": 20,
      "outputs": [
        {
          "output_type": "stream",
          "name": "stdout",
          "text": [
            "Data Point: [170, 65, 25]\n",
            "First Data Point: [170, 65, 25]\n",
            "Average Height: 170.0 cm\n"
          ]
        }
      ]
    },
    {
      "cell_type": "markdown",
      "source": [
        "\n",
        "##### Example: Simple Normalization\n"
      ],
      "metadata": {
        "id": "zJBlvh7meXKi"
      },
      "id": "zJBlvh7meXKi"
    },
    {
      "cell_type": "code",
      "source": [
        "# Normalizing Data\n",
        "# Formula: (value - min) / (max - min)\n",
        "weights = [data[1] for data in dataset]\n",
        "min_weight = min(weights)\n",
        "max_weight = max(weights)\n",
        "normalized_weights = [(w - min_weight) / (max_weight - min_weight) for w in weights]\n",
        "print(f\"Normalized Weights: {normalized_weights}\")\n",
        "\n"
      ],
      "metadata": {
        "colab": {
          "base_uri": "https://localhost:8080/"
        },
        "id": "y4AdeTjoeeac",
        "outputId": "b7b402ea-65fd-469a-d3d1-533f35d1a347"
      },
      "id": "y4AdeTjoeeac",
      "execution_count": 21,
      "outputs": [
        {
          "output_type": "stream",
          "name": "stdout",
          "text": [
            "Normalized Weights: [0.5, 0.0, 1.0]\n"
          ]
        }
      ]
    },
    {
      "cell_type": "markdown",
      "source": [
        "##### Example: Nested List Comprehension\n"
      ],
      "metadata": {
        "id": "7ujtBWCBei22"
      },
      "id": "7ujtBWCBei22"
    },
    {
      "cell_type": "code",
      "source": [
        "# Flattening a Multi-dimensional List\n",
        "matrix = [\n",
        "    [1, 2, 3],\n",
        "    [4, 5, 6],\n",
        "    [7, 8, 9]\n",
        "]\n",
        "flattened = [num for row in matrix for num in row]\n",
        "print(f\"Flattened Matrix: {flattened}\")\n",
        "\n",
        "# Creating a Matrix Using List Comprehension\n",
        "identity_matrix = [[1 if i == j else 0 for j in range(3)] for i in range(3)]\n",
        "print(f\"Identity Matrix: {identity_matrix}\")\n"
      ],
      "metadata": {
        "colab": {
          "base_uri": "https://localhost:8080/"
        },
        "id": "jsWEd2l7eoRp",
        "outputId": "d9f16c6c-378b-4b34-b79c-848d1567b9ea"
      },
      "id": "jsWEd2l7eoRp",
      "execution_count": 22,
      "outputs": [
        {
          "output_type": "stream",
          "name": "stdout",
          "text": [
            "Flattened Matrix: [1, 2, 3, 4, 5, 6, 7, 8, 9]\n",
            "Identity Matrix: [[1, 0, 0], [0, 1, 0], [0, 0, 1]]\n"
          ]
        }
      ]
    },
    {
      "cell_type": "markdown",
      "source": [
        "### Exercises\n",
        "1. Write a program to find the largest number in a list.\n",
        "2. Create a list of the first 10 Fibonacci numbers.\n",
        "3. Given a list of exam scores, calculate the average score and identify scores above the average.\n",
        "4. Normalize a list of numbers so that they range between 0 and 1.\n",
        "5. Create a dataset where each data point represents a house (e.g., [Size (sqft), Bedrooms, Age (years)]). Calculate the average size of the houses.\n"
      ],
      "metadata": {
        "id": "kgy8nUSUe3N0"
      },
      "id": "kgy8nUSUe3N0"
    },
    {
      "cell_type": "markdown",
      "source": [
        "## Section 5: Tuples\n",
        "\n",
        "### Explanation\n",
        "Tuples are ordered collections of items that are immutable.\n",
        "\n",
        "### Examples\n"
      ],
      "metadata": {
        "id": "nDsJQJf5fBfy"
      },
      "id": "nDsJQJf5fBfy"
    },
    {
      "cell_type": "code",
      "source": [
        "# Tuple Basics\n",
        "dimensions = (1920, 1080)\n",
        "print(dimensions)\n",
        "\n",
        "# Accessing Items\n",
        "print(dimensions[0])  # Output: 1920\n",
        "\n",
        "# Unpacking Tuples\n",
        "width, height = dimensions\n",
        "print(f\"Width: {width}, Height: {height}\")\n",
        "\n"
      ],
      "metadata": {
        "colab": {
          "base_uri": "https://localhost:8080/"
        },
        "id": "wSU5iFAsfJtk",
        "outputId": "b84096fd-78cb-4cdd-8b1d-8a164e3626a7"
      },
      "id": "wSU5iFAsfJtk",
      "execution_count": 23,
      "outputs": [
        {
          "output_type": "stream",
          "name": "stdout",
          "text": [
            "(1920, 1080)\n",
            "1920\n",
            "Width: 1920, Height: 1080\n"
          ]
        }
      ]
    },
    {
      "cell_type": "code",
      "source": [
        "# Tuples in Machine Learning\n",
        "\n",
        "# Example: Representing a Data Point\n",
        "# Tuples can represent immutable data points.\n",
        "data_point = (170, 65, 25)  # Height, Weight, Age\n",
        "print(f\"Data Point: {data_point}\")\n",
        "\n",
        "# Example: Dataset with Tuples\n",
        "# Tuples can be used for read-only datasets.\n",
        "dataset = (\n",
        "    (170, 65, 25),\n",
        "    (160, 55, 30),\n",
        "    (180, 75, 35)\n",
        ")\n",
        "\n",
        "# Accessing Data Points\n",
        "print(f\"First Data Point: {dataset[0]}\")\n",
        "\n",
        "# Example: Using Tuples as Keys in Dictionaries\n",
        "# Tuples can act as keys since they are immutable.\n",
        "locations = {\n",
        "    (40.7128, -74.0060): \"New York\",\n",
        "    (34.0522, -118.2437): \"Los Angeles\",\n",
        "    (51.5074, -0.1278): \"London\"\n",
        "}\n",
        "print(locations)\n",
        "\n",
        "# Accessing Location by Coordinates\n",
        "print(locations[(40.7128, -74.0060)])\n",
        "\n",
        "# Example: Combining Tuples with Lists\n",
        "# Use tuples for fixed data and lists for dynamic.\n",
        "ml_data = [\n",
        "    (\"Sample1\", [1.2, 3.4, 5.6]),\n",
        "    (\"Sample2\", [7.8, 9.0, 1.2])\n",
        "]\n",
        "print(ml_data)\n",
        "\n",
        "# Updating Data in the List within Tuple\n",
        "ml_data[0][1].append(7.8)\n",
        "print(ml_data)\n"
      ],
      "metadata": {
        "colab": {
          "base_uri": "https://localhost:8080/"
        },
        "id": "B225K_XbfTmp",
        "outputId": "fdace72e-3147-4476-a328-4b758c82a9c5"
      },
      "id": "B225K_XbfTmp",
      "execution_count": 24,
      "outputs": [
        {
          "output_type": "stream",
          "name": "stdout",
          "text": [
            "Data Point: (170, 65, 25)\n",
            "First Data Point: (170, 65, 25)\n",
            "{(40.7128, -74.006): 'New York', (34.0522, -118.2437): 'Los Angeles', (51.5074, -0.1278): 'London'}\n",
            "New York\n",
            "[('Sample1', [1.2, 3.4, 5.6]), ('Sample2', [7.8, 9.0, 1.2])]\n",
            "[('Sample1', [1.2, 3.4, 5.6, 7.8]), ('Sample2', [7.8, 9.0, 1.2])]\n"
          ]
        }
      ]
    },
    {
      "cell_type": "markdown",
      "id": "311148eb",
      "metadata": {
        "id": "311148eb"
      },
      "source": [
        "\n",
        "## Section 6: Dictionaries\n",
        "\n",
        "### Explanation\n",
        "Dictionaries store key-value pairs. They are versatile and allow efficient data retrieval. Keys in dictionaries must be unique and immutable, while values can be any data type.\n",
        "\n",
        "### Examples\n",
        "\n"
      ]
    },
    {
      "cell_type": "code",
      "source": [
        "#### Basic Operations\n",
        "# Dictionary Basics\n",
        "person = {\"name\": \"Musavir\", \"age\": 25, \"city\": \"New York\"}\n",
        "print(person)\n",
        "\n",
        "# Accessing Values\n",
        "print(person[\"name\"])\n",
        "\n",
        "# Adding Key-Value Pairs\n",
        "person[\"job\"] = \"Developer\"\n",
        "print(person)\n",
        "\n",
        "# Removing Key-Value Pairs\n",
        "del person[\"age\"]\n",
        "print(person)\n",
        "\n"
      ],
      "metadata": {
        "colab": {
          "base_uri": "https://localhost:8080/"
        },
        "id": "QaieGaANgBvE",
        "outputId": "f129239b-3d30-427c-a499-61a668d2417d"
      },
      "id": "QaieGaANgBvE",
      "execution_count": 11,
      "outputs": [
        {
          "output_type": "stream",
          "name": "stdout",
          "text": [
            "{'name': 'Musavir', 'age': 25, 'city': 'New York'}\n",
            "Musavir\n",
            "{'name': 'Musavir', 'age': 25, 'city': 'New York', 'job': 'Developer'}\n",
            "{'name': 'Musavir', 'city': 'New York', 'job': 'Developer'}\n"
          ]
        }
      ]
    },
    {
      "cell_type": "markdown",
      "source": [
        "#### Advanced Examples\n"
      ],
      "metadata": {
        "id": "oNZ4_v0agSg1"
      },
      "id": "oNZ4_v0agSg1"
    },
    {
      "cell_type": "code",
      "source": [
        "# Iterating Through a Dictionary\n",
        "for key, value in person.items():\n",
        "    print(f\"{key}: {value}\")\n",
        "\n",
        "# Checking Key Existence\n",
        "if \"city\" in person:\n",
        "    print(f\"City: {person['city']}\")\n",
        "\n",
        "# Nested Dictionaries\n",
        "student = {\n",
        "    \"name\": \"Ali\",\n",
        "    \"grades\": {\"math\": 85, \"science\": 90, \"history\": 78},\n",
        "    \"attendance\": 95\n",
        "}\n",
        "print(student)\n",
        "print(f\"Math Grade: {student['grades']['math']}\")\n",
        "\n"
      ],
      "metadata": {
        "id": "glcR9ZPSga4D"
      },
      "id": "glcR9ZPSga4D",
      "execution_count": null,
      "outputs": []
    },
    {
      "cell_type": "code",
      "source": [
        "# Using Dictionaries in Machine Learning\n",
        "# Example: Representing a Data Point with Features\n",
        "feature_vector = {\n",
        "    \"height\": 170,\n",
        "    \"weight\": 65,\n",
        "    \"age\": 25,\n",
        "    \"gender\": \"male\"\n",
        "}\n",
        "print(f\"Feature Vector: {feature_vector}\")\n",
        "\n",
        "# Example: Storing a Dataset\n",
        "# Each dictionary represents a data point.\n",
        "dataset = [\n",
        "    {\"height\": 170, \"weight\": 65, \"age\": 25},\n",
        "    {\"height\": 160, \"weight\": 55, \"age\": 30},\n",
        "    {\"height\": 180, \"weight\": 75, \"age\": 35}\n",
        "]\n",
        "\n",
        "# Accessing Dataset Information\n",
        "for data in dataset:\n",
        "    print(f\"Height: {data['height']}, Weight: {data['weight']}\")\n",
        "\n",
        "# Example: Calculating Average Age\n",
        "average_age = sum(data[\"age\"] for data in dataset) / len(dataset)\n",
        "print(f\"Average Age: {average_age}\")\n",
        "\n",
        "# Dictionaries for Encoding Labels\n",
        "# Example: Label Encoding\n",
        "label_mapping = {\"cat\": 0, \"dog\": 1, \"rabbit\": 2}\n",
        "labels = [\"cat\", \"dog\", \"rabbit\", \"dog\"]\n",
        "encoded_labels = [label_mapping[label] for label in labels]\n",
        "print(f\"Encoded Labels: {encoded_labels}\")\n",
        "\n",
        "# Dictionaries for Frequency Count\n",
        "text = \"machine learning is fascinating\"\n",
        "word_count = {}\n",
        "for word in text.split():\n",
        "    word_count[word] = word_count.get(word, 0) + 1\n",
        "print(f\"Word Count: {word_count}\")\n"
      ],
      "metadata": {
        "id": "kuoNoPm0glqt"
      },
      "id": "kuoNoPm0glqt",
      "execution_count": null,
      "outputs": []
    },
    {
      "cell_type": "markdown",
      "source": [
        "\n",
        "### Exercises\n",
        "1. Write a program to count the occurrences of each character in a string using a dictionary.\n",
        "2. Create a dictionary to store student names as keys and their grades as values. Calculate the average grade.\n",
        "3. Given a dictionary representing a dataset of houses (e.g., {\"House1\": {\"size\": 1000, \"price\": 300000}, ...}), calculate the average size and price of the houses.\n",
        "4. Create a label encoder for a list of fruits and decode it back to the original labels using a dictionary.\n",
        "5. Given a text, count the occurrences of each unique word using a dictionary.\n"
      ],
      "metadata": {
        "id": "SmeE2mOEgoJw"
      },
      "id": "SmeE2mOEgoJw"
    }
  ],
  "metadata": {
    "colab": {
      "provenance": [],
      "include_colab_link": true
    },
    "language_info": {
      "name": "python"
    },
    "kernelspec": {
      "name": "python3",
      "display_name": "Python 3"
    }
  },
  "nbformat": 4,
  "nbformat_minor": 5
}